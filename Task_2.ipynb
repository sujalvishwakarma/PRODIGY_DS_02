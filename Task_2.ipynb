{
 "cells": [
  {
   "cell_type": "code",
   "execution_count": 1,
   "id": "133ce586-7c66-4a2f-b401-e3e5b5534e2a",
   "metadata": {},
   "outputs": [],
   "source": [
    "import pandas as pd\n",
    "import numpy as np\n",
    "import matplotlib.pyplot as plt\n",
    "import seaborn as sns\n",
    "%matplotlib inline"
   ]
  },
  {
   "cell_type": "code",
   "execution_count": 2,
   "id": "5a1ef288-745c-44e2-8a6f-977a21aa7143",
   "metadata": {},
   "outputs": [],
   "source": [
    "train = pd.read_csv(\"train.csv\")"
   ]
  },
  {
   "cell_type": "code",
   "execution_count": 3,
   "id": "2823a4fb-cd38-4530-a163-ccb633dc775d",
   "metadata": {},
   "outputs": [
    {
     "data": {
      "text/html": [
       "<div>\n",
       "<style scoped>\n",
       "    .dataframe tbody tr th:only-of-type {\n",
       "        vertical-align: middle;\n",
       "    }\n",
       "\n",
       "    .dataframe tbody tr th {\n",
       "        vertical-align: top;\n",
       "    }\n",
       "\n",
       "    .dataframe thead th {\n",
       "        text-align: right;\n",
       "    }\n",
       "</style>\n",
       "<table border=\"1\" class=\"dataframe\">\n",
       "  <thead>\n",
       "    <tr style=\"text-align: right;\">\n",
       "      <th></th>\n",
       "      <th>PassengerId</th>\n",
       "      <th>Survived</th>\n",
       "      <th>Pclass</th>\n",
       "      <th>Name</th>\n",
       "      <th>Sex</th>\n",
       "      <th>Age</th>\n",
       "      <th>SibSp</th>\n",
       "      <th>Parch</th>\n",
       "      <th>Ticket</th>\n",
       "      <th>Fare</th>\n",
       "      <th>Cabin</th>\n",
       "      <th>Embarked</th>\n",
       "    </tr>\n",
       "  </thead>\n",
       "  <tbody>\n",
       "    <tr>\n",
       "      <th>0</th>\n",
       "      <td>1</td>\n",
       "      <td>0</td>\n",
       "      <td>3</td>\n",
       "      <td>Braund, Mr. Owen Harris</td>\n",
       "      <td>male</td>\n",
       "      <td>22.0</td>\n",
       "      <td>1</td>\n",
       "      <td>0</td>\n",
       "      <td>A/5 21171</td>\n",
       "      <td>7.2500</td>\n",
       "      <td>NaN</td>\n",
       "      <td>S</td>\n",
       "    </tr>\n",
       "    <tr>\n",
       "      <th>1</th>\n",
       "      <td>2</td>\n",
       "      <td>1</td>\n",
       "      <td>1</td>\n",
       "      <td>Cumings, Mrs. John Bradley (Florence Briggs Th...</td>\n",
       "      <td>female</td>\n",
       "      <td>38.0</td>\n",
       "      <td>1</td>\n",
       "      <td>0</td>\n",
       "      <td>PC 17599</td>\n",
       "      <td>71.2833</td>\n",
       "      <td>C85</td>\n",
       "      <td>C</td>\n",
       "    </tr>\n",
       "    <tr>\n",
       "      <th>2</th>\n",
       "      <td>3</td>\n",
       "      <td>1</td>\n",
       "      <td>3</td>\n",
       "      <td>Heikkinen, Miss. Laina</td>\n",
       "      <td>female</td>\n",
       "      <td>26.0</td>\n",
       "      <td>0</td>\n",
       "      <td>0</td>\n",
       "      <td>STON/O2. 3101282</td>\n",
       "      <td>7.9250</td>\n",
       "      <td>NaN</td>\n",
       "      <td>S</td>\n",
       "    </tr>\n",
       "    <tr>\n",
       "      <th>3</th>\n",
       "      <td>4</td>\n",
       "      <td>1</td>\n",
       "      <td>1</td>\n",
       "      <td>Futrelle, Mrs. Jacques Heath (Lily May Peel)</td>\n",
       "      <td>female</td>\n",
       "      <td>35.0</td>\n",
       "      <td>1</td>\n",
       "      <td>0</td>\n",
       "      <td>113803</td>\n",
       "      <td>53.1000</td>\n",
       "      <td>C123</td>\n",
       "      <td>S</td>\n",
       "    </tr>\n",
       "    <tr>\n",
       "      <th>4</th>\n",
       "      <td>5</td>\n",
       "      <td>0</td>\n",
       "      <td>3</td>\n",
       "      <td>Allen, Mr. William Henry</td>\n",
       "      <td>male</td>\n",
       "      <td>35.0</td>\n",
       "      <td>0</td>\n",
       "      <td>0</td>\n",
       "      <td>373450</td>\n",
       "      <td>8.0500</td>\n",
       "      <td>NaN</td>\n",
       "      <td>S</td>\n",
       "    </tr>\n",
       "  </tbody>\n",
       "</table>\n",
       "</div>"
      ],
      "text/plain": [
       "   PassengerId  Survived  Pclass  \\\n",
       "0            1         0       3   \n",
       "1            2         1       1   \n",
       "2            3         1       3   \n",
       "3            4         1       1   \n",
       "4            5         0       3   \n",
       "\n",
       "                                                Name     Sex   Age  SibSp  \\\n",
       "0                            Braund, Mr. Owen Harris    male  22.0      1   \n",
       "1  Cumings, Mrs. John Bradley (Florence Briggs Th...  female  38.0      1   \n",
       "2                             Heikkinen, Miss. Laina  female  26.0      0   \n",
       "3       Futrelle, Mrs. Jacques Heath (Lily May Peel)  female  35.0      1   \n",
       "4                           Allen, Mr. William Henry    male  35.0      0   \n",
       "\n",
       "   Parch            Ticket     Fare Cabin Embarked  \n",
       "0      0         A/5 21171   7.2500   NaN        S  \n",
       "1      0          PC 17599  71.2833   C85        C  \n",
       "2      0  STON/O2. 3101282   7.9250   NaN        S  \n",
       "3      0            113803  53.1000  C123        S  \n",
       "4      0            373450   8.0500   NaN        S  "
      ]
     },
     "execution_count": 3,
     "metadata": {},
     "output_type": "execute_result"
    }
   ],
   "source": [
    "train.head()"
   ]
  },
  {
   "cell_type": "code",
   "execution_count": 4,
   "id": "caba17f1-0006-47f4-8eb2-75474de1d1d7",
   "metadata": {},
   "outputs": [
    {
     "data": {
      "text/html": [
       "<div>\n",
       "<style scoped>\n",
       "    .dataframe tbody tr th:only-of-type {\n",
       "        vertical-align: middle;\n",
       "    }\n",
       "\n",
       "    .dataframe tbody tr th {\n",
       "        vertical-align: top;\n",
       "    }\n",
       "\n",
       "    .dataframe thead th {\n",
       "        text-align: right;\n",
       "    }\n",
       "</style>\n",
       "<table border=\"1\" class=\"dataframe\">\n",
       "  <thead>\n",
       "    <tr style=\"text-align: right;\">\n",
       "      <th></th>\n",
       "      <th>PassengerId</th>\n",
       "      <th>Survived</th>\n",
       "      <th>Pclass</th>\n",
       "      <th>Name</th>\n",
       "      <th>Sex</th>\n",
       "      <th>Age</th>\n",
       "      <th>SibSp</th>\n",
       "      <th>Parch</th>\n",
       "      <th>Ticket</th>\n",
       "      <th>Fare</th>\n",
       "      <th>Cabin</th>\n",
       "      <th>Embarked</th>\n",
       "    </tr>\n",
       "  </thead>\n",
       "  <tbody>\n",
       "    <tr>\n",
       "      <th>0</th>\n",
       "      <td>False</td>\n",
       "      <td>False</td>\n",
       "      <td>False</td>\n",
       "      <td>False</td>\n",
       "      <td>False</td>\n",
       "      <td>False</td>\n",
       "      <td>False</td>\n",
       "      <td>False</td>\n",
       "      <td>False</td>\n",
       "      <td>False</td>\n",
       "      <td>True</td>\n",
       "      <td>False</td>\n",
       "    </tr>\n",
       "    <tr>\n",
       "      <th>1</th>\n",
       "      <td>False</td>\n",
       "      <td>False</td>\n",
       "      <td>False</td>\n",
       "      <td>False</td>\n",
       "      <td>False</td>\n",
       "      <td>False</td>\n",
       "      <td>False</td>\n",
       "      <td>False</td>\n",
       "      <td>False</td>\n",
       "      <td>False</td>\n",
       "      <td>False</td>\n",
       "      <td>False</td>\n",
       "    </tr>\n",
       "    <tr>\n",
       "      <th>2</th>\n",
       "      <td>False</td>\n",
       "      <td>False</td>\n",
       "      <td>False</td>\n",
       "      <td>False</td>\n",
       "      <td>False</td>\n",
       "      <td>False</td>\n",
       "      <td>False</td>\n",
       "      <td>False</td>\n",
       "      <td>False</td>\n",
       "      <td>False</td>\n",
       "      <td>True</td>\n",
       "      <td>False</td>\n",
       "    </tr>\n",
       "    <tr>\n",
       "      <th>3</th>\n",
       "      <td>False</td>\n",
       "      <td>False</td>\n",
       "      <td>False</td>\n",
       "      <td>False</td>\n",
       "      <td>False</td>\n",
       "      <td>False</td>\n",
       "      <td>False</td>\n",
       "      <td>False</td>\n",
       "      <td>False</td>\n",
       "      <td>False</td>\n",
       "      <td>False</td>\n",
       "      <td>False</td>\n",
       "    </tr>\n",
       "    <tr>\n",
       "      <th>4</th>\n",
       "      <td>False</td>\n",
       "      <td>False</td>\n",
       "      <td>False</td>\n",
       "      <td>False</td>\n",
       "      <td>False</td>\n",
       "      <td>False</td>\n",
       "      <td>False</td>\n",
       "      <td>False</td>\n",
       "      <td>False</td>\n",
       "      <td>False</td>\n",
       "      <td>True</td>\n",
       "      <td>False</td>\n",
       "    </tr>\n",
       "    <tr>\n",
       "      <th>...</th>\n",
       "      <td>...</td>\n",
       "      <td>...</td>\n",
       "      <td>...</td>\n",
       "      <td>...</td>\n",
       "      <td>...</td>\n",
       "      <td>...</td>\n",
       "      <td>...</td>\n",
       "      <td>...</td>\n",
       "      <td>...</td>\n",
       "      <td>...</td>\n",
       "      <td>...</td>\n",
       "      <td>...</td>\n",
       "    </tr>\n",
       "    <tr>\n",
       "      <th>886</th>\n",
       "      <td>False</td>\n",
       "      <td>False</td>\n",
       "      <td>False</td>\n",
       "      <td>False</td>\n",
       "      <td>False</td>\n",
       "      <td>False</td>\n",
       "      <td>False</td>\n",
       "      <td>False</td>\n",
       "      <td>False</td>\n",
       "      <td>False</td>\n",
       "      <td>True</td>\n",
       "      <td>False</td>\n",
       "    </tr>\n",
       "    <tr>\n",
       "      <th>887</th>\n",
       "      <td>False</td>\n",
       "      <td>False</td>\n",
       "      <td>False</td>\n",
       "      <td>False</td>\n",
       "      <td>False</td>\n",
       "      <td>False</td>\n",
       "      <td>False</td>\n",
       "      <td>False</td>\n",
       "      <td>False</td>\n",
       "      <td>False</td>\n",
       "      <td>False</td>\n",
       "      <td>False</td>\n",
       "    </tr>\n",
       "    <tr>\n",
       "      <th>888</th>\n",
       "      <td>False</td>\n",
       "      <td>False</td>\n",
       "      <td>False</td>\n",
       "      <td>False</td>\n",
       "      <td>False</td>\n",
       "      <td>True</td>\n",
       "      <td>False</td>\n",
       "      <td>False</td>\n",
       "      <td>False</td>\n",
       "      <td>False</td>\n",
       "      <td>True</td>\n",
       "      <td>False</td>\n",
       "    </tr>\n",
       "    <tr>\n",
       "      <th>889</th>\n",
       "      <td>False</td>\n",
       "      <td>False</td>\n",
       "      <td>False</td>\n",
       "      <td>False</td>\n",
       "      <td>False</td>\n",
       "      <td>False</td>\n",
       "      <td>False</td>\n",
       "      <td>False</td>\n",
       "      <td>False</td>\n",
       "      <td>False</td>\n",
       "      <td>False</td>\n",
       "      <td>False</td>\n",
       "    </tr>\n",
       "    <tr>\n",
       "      <th>890</th>\n",
       "      <td>False</td>\n",
       "      <td>False</td>\n",
       "      <td>False</td>\n",
       "      <td>False</td>\n",
       "      <td>False</td>\n",
       "      <td>False</td>\n",
       "      <td>False</td>\n",
       "      <td>False</td>\n",
       "      <td>False</td>\n",
       "      <td>False</td>\n",
       "      <td>True</td>\n",
       "      <td>False</td>\n",
       "    </tr>\n",
       "  </tbody>\n",
       "</table>\n",
       "<p>891 rows × 12 columns</p>\n",
       "</div>"
      ],
      "text/plain": [
       "     PassengerId  Survived  Pclass   Name    Sex    Age  SibSp  Parch  Ticket  \\\n",
       "0          False     False   False  False  False  False  False  False   False   \n",
       "1          False     False   False  False  False  False  False  False   False   \n",
       "2          False     False   False  False  False  False  False  False   False   \n",
       "3          False     False   False  False  False  False  False  False   False   \n",
       "4          False     False   False  False  False  False  False  False   False   \n",
       "..           ...       ...     ...    ...    ...    ...    ...    ...     ...   \n",
       "886        False     False   False  False  False  False  False  False   False   \n",
       "887        False     False   False  False  False  False  False  False   False   \n",
       "888        False     False   False  False  False   True  False  False   False   \n",
       "889        False     False   False  False  False  False  False  False   False   \n",
       "890        False     False   False  False  False  False  False  False   False   \n",
       "\n",
       "      Fare  Cabin  Embarked  \n",
       "0    False   True     False  \n",
       "1    False  False     False  \n",
       "2    False   True     False  \n",
       "3    False  False     False  \n",
       "4    False   True     False  \n",
       "..     ...    ...       ...  \n",
       "886  False   True     False  \n",
       "887  False  False     False  \n",
       "888  False   True     False  \n",
       "889  False  False     False  \n",
       "890  False   True     False  \n",
       "\n",
       "[891 rows x 12 columns]"
      ]
     },
     "execution_count": 4,
     "metadata": {},
     "output_type": "execute_result"
    }
   ],
   "source": [
    "train.isnull()"
   ]
  },
  {
   "cell_type": "code",
   "execution_count": 10,
   "id": "73fbcb6b-8881-4a43-8765-fe65144202bf",
   "metadata": {},
   "outputs": [
    {
     "data": {
      "text/plain": [
       "<Axes: >"
      ]
     },
     "execution_count": 10,
     "metadata": {},
     "output_type": "execute_result"
    },
    {
     "data": {
      "image/png": "[encoded data removed]",
      "text/plain": [
       "<Figure size 640x480 with 1 Axes>"
      ]
     },
     "metadata": {},
     "output_type": "display_data"
    }
   ],
   "source": [
    "sns.heatmap(train.isnull(), yticklabels=False, cbar=False, cmap='viridis')"
   ]
  },
  {
   "cell_type": "code",
   "execution_count": 11,
   "id": "36f936b4-e95d-4d5a-911b-e48e3d994e97",
   "metadata": {},
   "outputs": [
    {
     "data": {
      "text/plain": [
       "<Axes: xlabel='Survived', ylabel='count'>"
      ]
     },
     "execution_count": 11,
     "metadata": {},
     "output_type": "execute_result"
    },
    {
     "data": {
      "image/png": "[encoded data removed]",
      "text/plain": [
       "<Figure size 640x480 with 1 Axes>"
      ]
     },
     "metadata": {},
     "output_type": "display_data"
    }
   ],
   "source": [
    "sns.set_style('whitegrid')\n",
    "sns.countplot(x=\"Survived\", data=train)"
   ]
  },
  {
   "cell_type": "code",
   "execution_count": 14,
   "id": "f2c27e7d-a52d-4db8-aad9-3bbe034efb74",
   "metadata": {},
   "outputs": [
    {
     "data": {
      "text/plain": [
       "<Axes: xlabel='Survived', ylabel='count'>"
      ]
     },
     "execution_count": 14,
     "metadata": {},
     "output_type": "execute_result"
    },
    {
     "data": {
      "image/png": "[encoded data removed]",
      "text/plain": [
       "<Figure size 640x480 with 1 Axes>"
      ]
     },
     "metadata": {},
     "output_type": "display_data"
    }
   ],
   "source": [
    "sns.set_style(\"whitegrid\")\n",
    "sns.countplot(x='Survived', hue='Sex', data=train, palette='RdBu_r')"
   ]
  },
  {
   "cell_type": "code",
   "execution_count": 15,
   "id": "50202245-2876-4590-9dcc-ec2f88c357a1",
   "metadata": {},
   "outputs": [
    {
     "data": {
      "text/plain": [
       "<Axes: xlabel='Survived', ylabel='count'>"
      ]
     },
     "execution_count": 15,
     "metadata": {},
     "output_type": "execute_result"
    },
    {
     "data": {
      "image/png": "[encoded data removed]",
      "text/plain": [
       "<Figure size 640x480 with 1 Axes>"
      ]
     },
     "metadata": {},
     "output_type": "display_data"
    }
   ],
   "source": [
    "sns.set_style(\"whitegrid\")\n",
    "sns.countplot(x='Survived', hue='Pclass', data=train, palette='rainbow')"
   ]
  },
  {
   "cell_type": "code",
   "execution_count": 18,
   "id": "67154971-219e-4d7e-b2a9-11c8729966e6",
   "metadata": {},
   "outputs": [
    {
     "data": {
      "text/plain": [
       "<seaborn.axisgrid.FacetGrid at 0x1639d353e90>"
      ]
     },
     "execution_count": 18,
     "metadata": {},
     "output_type": "execute_result"
    },
    {
     "data": {
      "image/png": "[encoded data removed]",
      "text/plain": [
       "<Figure size 500x500 with 1 Axes>"
      ]
     },
     "metadata": {},
     "output_type": "display_data"
    }
   ],
   "source": [
    "sns.displot(train['Age'].dropna(), kde=False, color='darkred', bins=40)"
   ]
  },
  {
   "cell_type": "code",
   "execution_count": 19,
   "id": "a9d946d0-b4be-4010-899c-4a333a2a5484",
   "metadata": {},
   "outputs": [
    {
     "data": {
      "text/plain": [
       "<Axes: >"
      ]
     },
     "execution_count": 19,
     "metadata": {},
     "output_type": "execute_result"
    },
    {
     "data": {
      "image/png": "[encoded data removed]",
      "text/plain": [
       "<Figure size 640x480 with 1 Axes>"
      ]
     },
     "metadata": {},
     "output_type": "display_data"
    }
   ],
   "source": [
    "train['Age'].hist(bins=30, color='darkred', alpha=0.3)"
   ]
  },
  {
   "cell_type": "code",
   "execution_count": 20,
   "id": "3bc54e2e-60e2-449d-bfc3-79f57f6370fd",
   "metadata": {},
   "outputs": [
    {
     "data": {
      "text/plain": [
       "<Axes: xlabel='SibSp', ylabel='count'>"
      ]
     },
     "execution_count": 20,
     "metadata": {},
     "output_type": "execute_result"
    },
    {
     "data": {
      "image/png": "[encoded data removed]",
      "text/plain": [
       "<Figure size 640x480 with 1 Axes>"
      ]
     },
     "metadata": {},
     "output_type": "display_data"
    }
   ],
   "source": [
    "sns.countplot(x='SibSp', data=train)"
   ]
  },
  {
   "cell_type": "code",
   "execution_count": 21,
   "id": "f1a04d94-a8d2-417f-ad57-4435465b8556",
   "metadata": {},
   "outputs": [
    {
     "data": {
      "text/plain": [
       "<Axes: >"
      ]
     },
     "execution_count": 21,
     "metadata": {},
     "output_type": "execute_result"
    },
    {
     "data": {
      "image/png": "[encoded data removed]",
      "text/plain": [
       "<Figure size 800x400 with 1 Axes>"
      ]
     },
     "metadata": {},
     "output_type": "display_data"
    }
   ],
   "source": [
    "train['Fare'].hist(color='green', bins=40, figsize=(8,4))"
   ]
  },
  {
   "cell_type": "code",
   "execution_count": 22,
   "id": "cb4e893e-6065-4f87-b6f8-f365c10833ee",
   "metadata": {},
   "outputs": [
    {
     "name": "stderr",
     "output_type": "stream",
     "text": [
      "C:\\Users\\svish\\AppData\\Local\\Temp\\ipykernel_5712\\1440061134.py:2: FutureWarning: \n",
      "\n",
      "Passing `palette` without assigning `hue` is deprecated and will be removed in v0.14.0. Assign the `x` variable to `hue` and set `legend=False` for the same effect.\n",
      "\n",
      "  sns.boxplot(x='Pclass', y='Age', data=train, palette='winter')\n"
     ]
    },
    {
     "data": {
      "text/plain": [
       "<Axes: xlabel='Pclass', ylabel='Age'>"
      ]
     },
     "execution_count": 22,
     "metadata": {},
     "output_type": "execute_result"
    },
    {
     "data": {
      "image/png": "[encoded data removed]",
      "text/plain": [
       "<Figure size 1200x700 with 1 Axes>"
      ]
     },
     "metadata": {},
     "output_type": "display_data"
    }
   ],
   "source": [
    "plt.figure(figsize=(12, 7))\n",
    "sns.boxplot(x='Pclass', y='Age', data=train, palette='winter')"
   ]
  },
  {
   "cell_type": "code",
   "execution_count": 26,
   "id": "59749bad-0e67-4d20-a9b7-c4fc559cfec3",
   "metadata": {},
   "outputs": [],
   "source": [
    "def impute_age(cols):\n",
    "    Age = cols[0]\n",
    "    Pclass = cols[1]\n",
    "\n",
    "    if pd.isnull(Age):\n",
    "\n",
    "        if Pclass == 1:\n",
    "            return 37\n",
    "        elif Pclass == 2:\n",
    "            return 29\n",
    "        else:\n",
    "            return 24\n",
    "    else:\n",
    "        return Age"
   ]
  },
  {
   "cell_type": "code",
   "execution_count": 27,
   "id": "c565eaa1-129a-4bc1-9127-e4e77583d02c",
   "metadata": {},
   "outputs": [
    {
     "name": "stderr",
     "output_type": "stream",
     "text": [
      "C:\\Users\\svish\\AppData\\Local\\Temp\\ipykernel_5712\\3029730596.py:2: FutureWarning: Series.__getitem__ treating keys as positions is deprecated. In a future version, integer keys will always be treated as labels (consistent with DataFrame behavior). To access a value by position, use `ser.iloc[pos]`\n",
      "  Age = cols[0]\n",
      "C:\\Users\\svish\\AppData\\Local\\Temp\\ipykernel_5712\\3029730596.py:3: FutureWarning: Series.__getitem__ treating keys as positions is deprecated. In a future version, integer keys will always be treated as labels (consistent with DataFrame behavior). To access a value by position, use `ser.iloc[pos]`\n",
      "  Pclass = cols[1]\n"
     ]
    }
   ],
   "source": [
    "train['Age'] = train[['Age', 'Pclass']].apply(impute_age, axis=1)"
   ]
  },
  {
   "cell_type": "code",
   "execution_count": 28,
   "id": "bb972c32-7032-4a97-9788-890957e2657f",
   "metadata": {},
   "outputs": [
    {
     "data": {
      "text/plain": [
       "<Axes: >"
      ]
     },
     "execution_count": 28,
     "metadata": {},
     "output_type": "execute_result"
    },
    {
     "data": {
      "image/png": "[encoded data removed]",
      "text/plain": [
       "<Figure size 640x480 with 1 Axes>"
      ]
     },
     "metadata": {},
     "output_type": "display_data"
    }
   ],
   "source": [
    "sns.heatmap(train.isnull(), yticklabels=False, cbar=False, cmap='viridis')"
   ]
  },
  {
   "cell_type": "code",
   "execution_count": 28,
   "id": "1b684de7",
   "metadata": {},
   "outputs": [
    {
     "data": {
      "text/plain": [
       "<Axes: >"
      ]
     },
     "execution_count": 28,
     "metadata": {},
     "output_type": "execute_result"
    },
    {
     "data": {
      "image/png": "[encoded data removed]",
      "text/plain": [
       "<Figure size 640x480 with 1 Axes>"
      ]
     },
     "metadata": {},
     "output_type": "display_data"
    }
   ],
   "source": [
    "sns.heatmap(train.isnull(), yticklabels=False, cbar=False, cmap='viridis')"
   ]
  },
  {
   "cell_type": "code",
   "execution_count": 29,
   "id": "ff951f31-143f-4abd-99e4-8647c4a2a915",
   "metadata": {},
   "outputs": [],
   "source": [
    "train.drop('Cabin', axis=1, inplace=True)"
   ]
  },
  {
   "cell_type": "code",
   "execution_count": 30,
   "id": "4c5d3dff-946c-45b0-be61-4542f750c64e",
   "metadata": {},
   "outputs": [
    {
     "data": {
      "text/html": [
       "<div>\n",
       "<style scoped>\n",
       "    .dataframe tbody tr th:only-of-type {\n",
       "        vertical-align: middle;\n",
       "    }\n",
       "\n",
       "    .dataframe tbody tr th {\n",
       "        vertical-align: top;\n",
       "    }\n",
       "\n",
       "    .dataframe thead th {\n",
       "        text-align: right;\n",
       "    }\n",
       "</style>\n",
       "<table border=\"1\" class=\"dataframe\">\n",
       "  <thead>\n",
       "    <tr style=\"text-align: right;\">\n",
       "      <th></th>\n",
       "      <th>PassengerId</th>\n",
       "      <th>Survived</th>\n",
       "      <th>Pclass</th>\n",
       "      <th>Name</th>\n",
       "      <th>Sex</th>\n",
       "      <th>Age</th>\n",
       "      <th>SibSp</th>\n",
       "      <th>Parch</th>\n",
       "      <th>Ticket</th>\n",
       "      <th>Fare</th>\n",
       "      <th>Embarked</th>\n",
       "    </tr>\n",
       "  </thead>\n",
       "  <tbody>\n",
       "    <tr>\n",
       "      <th>0</th>\n",
       "      <td>1</td>\n",
       "      <td>0</td>\n",
       "      <td>3</td>\n",
       "      <td>Braund, Mr. Owen Harris</td>\n",
       "      <td>male</td>\n",
       "      <td>22.0</td>\n",
       "      <td>1</td>\n",
       "      <td>0</td>\n",
       "      <td>A/5 21171</td>\n",
       "      <td>7.2500</td>\n",
       "      <td>S</td>\n",
       "    </tr>\n",
       "    <tr>\n",
       "      <th>1</th>\n",
       "      <td>2</td>\n",
       "      <td>1</td>\n",
       "      <td>1</td>\n",
       "      <td>Cumings, Mrs. John Bradley (Florence Briggs Th...</td>\n",
       "      <td>female</td>\n",
       "      <td>38.0</td>\n",
       "      <td>1</td>\n",
       "      <td>0</td>\n",
       "      <td>PC 17599</td>\n",
       "      <td>71.2833</td>\n",
       "      <td>C</td>\n",
       "    </tr>\n",
       "    <tr>\n",
       "      <th>2</th>\n",
       "      <td>3</td>\n",
       "      <td>1</td>\n",
       "      <td>3</td>\n",
       "      <td>Heikkinen, Miss. Laina</td>\n",
       "      <td>female</td>\n",
       "      <td>26.0</td>\n",
       "      <td>0</td>\n",
       "      <td>0</td>\n",
       "      <td>STON/O2. 3101282</td>\n",
       "      <td>7.9250</td>\n",
       "      <td>S</td>\n",
       "    </tr>\n",
       "    <tr>\n",
       "      <th>3</th>\n",
       "      <td>4</td>\n",
       "      <td>1</td>\n",
       "      <td>1</td>\n",
       "      <td>Futrelle, Mrs. Jacques Heath (Lily May Peel)</td>\n",
       "      <td>female</td>\n",
       "      <td>35.0</td>\n",
       "      <td>1</td>\n",
       "      <td>0</td>\n",
       "      <td>113803</td>\n",
       "      <td>53.1000</td>\n",
       "      <td>S</td>\n",
       "    </tr>\n",
       "    <tr>\n",
       "      <th>4</th>\n",
       "      <td>5</td>\n",
       "      <td>0</td>\n",
       "      <td>3</td>\n",
       "      <td>Allen, Mr. William Henry</td>\n",
       "      <td>male</td>\n",
       "      <td>35.0</td>\n",
       "      <td>0</td>\n",
       "      <td>0</td>\n",
       "      <td>373450</td>\n",
       "      <td>8.0500</td>\n",
       "      <td>S</td>\n",
       "    </tr>\n",
       "  </tbody>\n",
       "</table>\n",
       "</div>"
      ],
      "text/plain": [
       "   PassengerId  Survived  Pclass  \\\n",
       "0            1         0       3   \n",
       "1            2         1       1   \n",
       "2            3         1       3   \n",
       "3            4         1       1   \n",
       "4            5         0       3   \n",
       "\n",
       "                                                Name     Sex   Age  SibSp  \\\n",
       "0                            Braund, Mr. Owen Harris    male  22.0      1   \n",
       "1  Cumings, Mrs. John Bradley (Florence Briggs Th...  female  38.0      1   \n",
       "2                             Heikkinen, Miss. Laina  female  26.0      0   \n",
       "3       Futrelle, Mrs. Jacques Heath (Lily May Peel)  female  35.0      1   \n",
       "4                           Allen, Mr. William Henry    male  35.0      0   \n",
       "\n",
       "   Parch            Ticket     Fare Embarked  \n",
       "0      0         A/5 21171   7.2500        S  \n",
       "1      0          PC 17599  71.2833        C  \n",
       "2      0  STON/O2. 3101282   7.9250        S  \n",
       "3      0            113803  53.1000        S  \n",
       "4      0            373450   8.0500        S  "
      ]
     },
     "execution_count": 30,
     "metadata": {},
     "output_type": "execute_result"
    }
   ],
   "source": [
    "train.head()"
   ]
  },
  {
   "cell_type": "code",
   "execution_count": 31,
   "id": "09b6b5e0-749c-4aa2-9771-1bbef376401f",
   "metadata": {},
   "outputs": [
    {
     "data": {
      "text/plain": [
       "<Axes: >"
      ]
     },
     "execution_count": 31,
     "metadata": {},
     "output_type": "execute_result"
    },
    {
     "data": {
      "image/png": "[encoded data removed]",
      "text/plain": [
       "<Figure size 640x480 with 1 Axes>"
      ]
     },
     "metadata": {},
     "output_type": "display_data"
    }
   ],
   "source": [
    "sns.heatmap(train.isnull(), yticklabels=False, cbar=False, cmap='viridis')"
   ]
  },
  {
   "cell_type": "code",
   "execution_count": 32,
   "id": "9892e79e-7c01-4e92-a9f4-75a444a82a47",
   "metadata": {},
   "outputs": [],
   "source": [
    "train.dropna(inplace=True)"
   ]
  },
  {
   "cell_type": "code",
   "execution_count": 33,
   "id": "cd9c338a-245d-4a12-a73f-ac88980dda9c",
   "metadata": {},
   "outputs": [
    {
     "name": "stdout",
     "output_type": "stream",
     "text": [
      "<class 'pandas.core.frame.DataFrame'>\n",
      "Index: 889 entries, 0 to 890\n",
      "Data columns (total 11 columns):\n",
      " #   Column       Non-Null Count  Dtype  \n",
      "---  ------       --------------  -----  \n",
      " 0   PassengerId  889 non-null    int64  \n",
      " 1   Survived     889 non-null    int64  \n",
      " 2   Pclass       889 non-null    int64  \n",
      " 3   Name         889 non-null    object \n",
      " 4   Sex          889 non-null    object \n",
      " 5   Age          889 non-null    float64\n",
      " 6   SibSp        889 non-null    int64  \n",
      " 7   Parch        889 non-null    int64  \n",
      " 8   Ticket       889 non-null    object \n",
      " 9   Fare         889 non-null    float64\n",
      " 10  Embarked     889 non-null    object \n",
      "dtypes: float64(2), int64(5), object(4)\n",
      "memory usage: 83.3+ KB\n"
     ]
    }
   ],
   "source": [
    "train.info()"
   ]
  },
  {
   "cell_type": "code",
   "execution_count": 36,
   "id": "66e0eee9-ce5b-4c46-932a-fded289a1d43",
   "metadata": {},
   "outputs": [
    {
     "data": {
      "text/html": [
       "<div>\n",
       "<style scoped>\n",
       "    .dataframe tbody tr th:only-of-type {\n",
       "        vertical-align: middle;\n",
       "    }\n",
       "\n",
       "    .dataframe tbody tr th {\n",
       "        vertical-align: top;\n",
       "    }\n",
       "\n",
       "    .dataframe thead th {\n",
       "        text-align: right;\n",
       "    }\n",
       "</style>\n",
       "<table border=\"1\" class=\"dataframe\">\n",
       "  <thead>\n",
       "    <tr style=\"text-align: right;\">\n",
       "      <th></th>\n",
       "      <th>Q</th>\n",
       "      <th>S</th>\n",
       "    </tr>\n",
       "  </thead>\n",
       "  <tbody>\n",
       "    <tr>\n",
       "      <th>0</th>\n",
       "      <td>False</td>\n",
       "      <td>True</td>\n",
       "    </tr>\n",
       "    <tr>\n",
       "      <th>1</th>\n",
       "      <td>False</td>\n",
       "      <td>False</td>\n",
       "    </tr>\n",
       "    <tr>\n",
       "      <th>2</th>\n",
       "      <td>False</td>\n",
       "      <td>True</td>\n",
       "    </tr>\n",
       "    <tr>\n",
       "      <th>3</th>\n",
       "      <td>False</td>\n",
       "      <td>True</td>\n",
       "    </tr>\n",
       "    <tr>\n",
       "      <th>4</th>\n",
       "      <td>False</td>\n",
       "      <td>True</td>\n",
       "    </tr>\n",
       "  </tbody>\n",
       "</table>\n",
       "</div>"
      ],
      "text/plain": [
       "       Q      S\n",
       "0  False   True\n",
       "1  False  False\n",
       "2  False   True\n",
       "3  False   True\n",
       "4  False   True"
      ]
     },
     "execution_count": 36,
     "metadata": {},
     "output_type": "execute_result"
    }
   ],
   "source": [
    "pd.get_dummies(train['Embarked'], drop_first=True).head()"
   ]
  },
  {
   "cell_type": "code",
   "execution_count": 37,
   "id": "deb175c2-2f85-407e-95d5-ee5eddab53b7",
   "metadata": {},
   "outputs": [],
   "source": [
    "sex = pd.get_dummies(train['Sex'], drop_first=True)\n",
    "embark = pd.get_dummies(train['Embarked'], drop_first=True)"
   ]
  },
  {
   "cell_type": "code",
   "execution_count": 38,
   "id": "ac17bf37-5b7b-4c8d-abb3-96b3f7117446",
   "metadata": {},
   "outputs": [],
   "source": [
    "train.drop(['Sex', 'Embarked', 'Name', 'Ticket'], axis=1, inplace=True)"
   ]
  },
  {
   "cell_type": "code",
   "execution_count": 39,
   "id": "c0364acd-b578-43cc-8462-a6162f4abe4c",
   "metadata": {},
   "outputs": [
    {
     "data": {
      "text/html": [
       "<div>\n",
       "<style scoped>\n",
       "    .dataframe tbody tr th:only-of-type {\n",
       "        vertical-align: middle;\n",
       "    }\n",
       "\n",
       "    .dataframe tbody tr th {\n",
       "        vertical-align: top;\n",
       "    }\n",
       "\n",
       "    .dataframe thead th {\n",
       "        text-align: right;\n",
       "    }\n",
       "</style>\n",
       "<table border=\"1\" class=\"dataframe\">\n",
       "  <thead>\n",
       "    <tr style=\"text-align: right;\">\n",
       "      <th></th>\n",
       "      <th>PassengerId</th>\n",
       "      <th>Survived</th>\n",
       "      <th>Pclass</th>\n",
       "      <th>Age</th>\n",
       "      <th>SibSp</th>\n",
       "      <th>Parch</th>\n",
       "      <th>Fare</th>\n",
       "    </tr>\n",
       "  </thead>\n",
       "  <tbody>\n",
       "    <tr>\n",
       "      <th>0</th>\n",
       "      <td>1</td>\n",
       "      <td>0</td>\n",
       "      <td>3</td>\n",
       "      <td>22.0</td>\n",
       "      <td>1</td>\n",
       "      <td>0</td>\n",
       "      <td>7.2500</td>\n",
       "    </tr>\n",
       "    <tr>\n",
       "      <th>1</th>\n",
       "      <td>2</td>\n",
       "      <td>1</td>\n",
       "      <td>1</td>\n",
       "      <td>38.0</td>\n",
       "      <td>1</td>\n",
       "      <td>0</td>\n",
       "      <td>71.2833</td>\n",
       "    </tr>\n",
       "    <tr>\n",
       "      <th>2</th>\n",
       "      <td>3</td>\n",
       "      <td>1</td>\n",
       "      <td>3</td>\n",
       "      <td>26.0</td>\n",
       "      <td>0</td>\n",
       "      <td>0</td>\n",
       "      <td>7.9250</td>\n",
       "    </tr>\n",
       "    <tr>\n",
       "      <th>3</th>\n",
       "      <td>4</td>\n",
       "      <td>1</td>\n",
       "      <td>1</td>\n",
       "      <td>35.0</td>\n",
       "      <td>1</td>\n",
       "      <td>0</td>\n",
       "      <td>53.1000</td>\n",
       "    </tr>\n",
       "    <tr>\n",
       "      <th>4</th>\n",
       "      <td>5</td>\n",
       "      <td>0</td>\n",
       "      <td>3</td>\n",
       "      <td>35.0</td>\n",
       "      <td>0</td>\n",
       "      <td>0</td>\n",
       "      <td>8.0500</td>\n",
       "    </tr>\n",
       "  </tbody>\n",
       "</table>\n",
       "</div>"
      ],
      "text/plain": [
       "   PassengerId  Survived  Pclass   Age  SibSp  Parch     Fare\n",
       "0            1         0       3  22.0      1      0   7.2500\n",
       "1            2         1       1  38.0      1      0  71.2833\n",
       "2            3         1       3  26.0      0      0   7.9250\n",
       "3            4         1       1  35.0      1      0  53.1000\n",
       "4            5         0       3  35.0      0      0   8.0500"
      ]
     },
     "execution_count": 39,
     "metadata": {},
     "output_type": "execute_result"
    }
   ],
   "source": [
    "train.head()"
   ]
  },
  {
   "cell_type": "code",
   "execution_count": 40,
   "id": "be6933ac-8cd2-430b-a41b-35a721fae576",
   "metadata": {},
   "outputs": [],
   "source": [
    "train = pd.concat([train, sex, embark], axis=1)"
   ]
  },
  {
   "cell_type": "code",
   "execution_count": 41,
   "id": "b55fbae9-ca7c-45f2-83bd-e27e3e54aa68",
   "metadata": {},
   "outputs": [
    {
     "data": {
      "text/html": [
       "<div>\n",
       "<style scoped>\n",
       "    .dataframe tbody tr th:only-of-type {\n",
       "        vertical-align: middle;\n",
       "    }\n",
       "\n",
       "    .dataframe tbody tr th {\n",
       "        vertical-align: top;\n",
       "    }\n",
       "\n",
       "    .dataframe thead th {\n",
       "        text-align: right;\n",
       "    }\n",
       "</style>\n",
       "<table border=\"1\" class=\"dataframe\">\n",
       "  <thead>\n",
       "    <tr style=\"text-align: right;\">\n",
       "      <th></th>\n",
       "      <th>PassengerId</th>\n",
       "      <th>Survived</th>\n",
       "      <th>Pclass</th>\n",
       "      <th>Age</th>\n",
       "      <th>SibSp</th>\n",
       "      <th>Parch</th>\n",
       "      <th>Fare</th>\n",
       "      <th>male</th>\n",
       "      <th>Q</th>\n",
       "      <th>S</th>\n",
       "    </tr>\n",
       "  </thead>\n",
       "  <tbody>\n",
       "    <tr>\n",
       "      <th>0</th>\n",
       "      <td>1</td>\n",
       "      <td>0</td>\n",
       "      <td>3</td>\n",
       "      <td>22.0</td>\n",
       "      <td>1</td>\n",
       "      <td>0</td>\n",
       "      <td>7.2500</td>\n",
       "      <td>True</td>\n",
       "      <td>False</td>\n",
       "      <td>True</td>\n",
       "    </tr>\n",
       "    <tr>\n",
       "      <th>1</th>\n",
       "      <td>2</td>\n",
       "      <td>1</td>\n",
       "      <td>1</td>\n",
       "      <td>38.0</td>\n",
       "      <td>1</td>\n",
       "      <td>0</td>\n",
       "      <td>71.2833</td>\n",
       "      <td>False</td>\n",
       "      <td>False</td>\n",
       "      <td>False</td>\n",
       "    </tr>\n",
       "    <tr>\n",
       "      <th>2</th>\n",
       "      <td>3</td>\n",
       "      <td>1</td>\n",
       "      <td>3</td>\n",
       "      <td>26.0</td>\n",
       "      <td>0</td>\n",
       "      <td>0</td>\n",
       "      <td>7.9250</td>\n",
       "      <td>False</td>\n",
       "      <td>False</td>\n",
       "      <td>True</td>\n",
       "    </tr>\n",
       "    <tr>\n",
       "      <th>3</th>\n",
       "      <td>4</td>\n",
       "      <td>1</td>\n",
       "      <td>1</td>\n",
       "      <td>35.0</td>\n",
       "      <td>1</td>\n",
       "      <td>0</td>\n",
       "      <td>53.1000</td>\n",
       "      <td>False</td>\n",
       "      <td>False</td>\n",
       "      <td>True</td>\n",
       "    </tr>\n",
       "    <tr>\n",
       "      <th>4</th>\n",
       "      <td>5</td>\n",
       "      <td>0</td>\n",
       "      <td>3</td>\n",
       "      <td>35.0</td>\n",
       "      <td>0</td>\n",
       "      <td>0</td>\n",
       "      <td>8.0500</td>\n",
       "      <td>True</td>\n",
       "      <td>False</td>\n",
       "      <td>True</td>\n",
       "    </tr>\n",
       "  </tbody>\n",
       "</table>\n",
       "</div>"
      ],
      "text/plain": [
       "   PassengerId  Survived  Pclass   Age  SibSp  Parch     Fare   male      Q  \\\n",
       "0            1         0       3  22.0      1      0   7.2500   True  False   \n",
       "1            2         1       1  38.0      1      0  71.2833  False  False   \n",
       "2            3         1       3  26.0      0      0   7.9250  False  False   \n",
       "3            4         1       1  35.0      1      0  53.1000  False  False   \n",
       "4            5         0       3  35.0      0      0   8.0500   True  False   \n",
       "\n",
       "       S  \n",
       "0   True  \n",
       "1  False  \n",
       "2   True  \n",
       "3   True  \n",
       "4   True  "
      ]
     },
     "execution_count": 41,
     "metadata": {},
     "output_type": "execute_result"
    }
   ],
   "source": [
    "train.head()"
   ]
  },
  {
   "cell_type": "code",
   "execution_count": 42,
   "id": "71a353bc-8c7e-44cb-a98d-cb29378cbe3c",
   "metadata": {},
   "outputs": [
    {
     "data": {
      "text/html": [
       "<div>\n",
       "<style scoped>\n",
       "    .dataframe tbody tr th:only-of-type {\n",
       "        vertical-align: middle;\n",
       "    }\n",
       "\n",
       "    .dataframe tbody tr th {\n",
       "        vertical-align: top;\n",
       "    }\n",
       "\n",
       "    .dataframe thead th {\n",
       "        text-align: right;\n",
       "    }\n",
       "</style>\n",
       "<table border=\"1\" class=\"dataframe\">\n",
       "  <thead>\n",
       "    <tr style=\"text-align: right;\">\n",
       "      <th></th>\n",
       "      <th>PassengerId</th>\n",
       "      <th>Pclass</th>\n",
       "      <th>Age</th>\n",
       "      <th>SibSp</th>\n",
       "      <th>Parch</th>\n",
       "      <th>Fare</th>\n",
       "      <th>male</th>\n",
       "      <th>Q</th>\n",
       "      <th>S</th>\n",
       "    </tr>\n",
       "  </thead>\n",
       "  <tbody>\n",
       "    <tr>\n",
       "      <th>0</th>\n",
       "      <td>1</td>\n",
       "      <td>3</td>\n",
       "      <td>22.0</td>\n",
       "      <td>1</td>\n",
       "      <td>0</td>\n",
       "      <td>7.2500</td>\n",
       "      <td>True</td>\n",
       "      <td>False</td>\n",
       "      <td>True</td>\n",
       "    </tr>\n",
       "    <tr>\n",
       "      <th>1</th>\n",
       "      <td>2</td>\n",
       "      <td>1</td>\n",
       "      <td>38.0</td>\n",
       "      <td>1</td>\n",
       "      <td>0</td>\n",
       "      <td>71.2833</td>\n",
       "      <td>False</td>\n",
       "      <td>False</td>\n",
       "      <td>False</td>\n",
       "    </tr>\n",
       "    <tr>\n",
       "      <th>2</th>\n",
       "      <td>3</td>\n",
       "      <td>3</td>\n",
       "      <td>26.0</td>\n",
       "      <td>0</td>\n",
       "      <td>0</td>\n",
       "      <td>7.9250</td>\n",
       "      <td>False</td>\n",
       "      <td>False</td>\n",
       "      <td>True</td>\n",
       "    </tr>\n",
       "    <tr>\n",
       "      <th>3</th>\n",
       "      <td>4</td>\n",
       "      <td>1</td>\n",
       "      <td>35.0</td>\n",
       "      <td>1</td>\n",
       "      <td>0</td>\n",
       "      <td>53.1000</td>\n",
       "      <td>False</td>\n",
       "      <td>False</td>\n",
       "      <td>True</td>\n",
       "    </tr>\n",
       "    <tr>\n",
       "      <th>4</th>\n",
       "      <td>5</td>\n",
       "      <td>3</td>\n",
       "      <td>35.0</td>\n",
       "      <td>0</td>\n",
       "      <td>0</td>\n",
       "      <td>8.0500</td>\n",
       "      <td>True</td>\n",
       "      <td>False</td>\n",
       "      <td>True</td>\n",
       "    </tr>\n",
       "  </tbody>\n",
       "</table>\n",
       "</div>"
      ],
      "text/plain": [
       "   PassengerId  Pclass   Age  SibSp  Parch     Fare   male      Q      S\n",
       "0            1       3  22.0      1      0   7.2500   True  False   True\n",
       "1            2       1  38.0      1      0  71.2833  False  False  False\n",
       "2            3       3  26.0      0      0   7.9250  False  False   True\n",
       "3            4       1  35.0      1      0  53.1000  False  False   True\n",
       "4            5       3  35.0      0      0   8.0500   True  False   True"
      ]
     },
     "execution_count": 42,
     "metadata": {},
     "output_type": "execute_result"
    }
   ],
   "source": [
    "train.drop('Survived', axis=1).head()"
   ]
  },
  {
   "cell_type": "code",
   "execution_count": 43,
   "id": "360fb6b9-285f-400a-937a-0d931e688bdb",
   "metadata": {},
   "outputs": [
    {
     "data": {
      "text/plain": [
       "0    0\n",
       "1    1\n",
       "2    1\n",
       "3    1\n",
       "4    0\n",
       "Name: Survived, dtype: int64"
      ]
     },
     "execution_count": 43,
     "metadata": {},
     "output_type": "execute_result"
    }
   ],
   "source": [
    "train['Survived'].head()"
   ]
  },
  {
   "cell_type": "code",
   "execution_count": 50,
   "id": "274cb0b2-bded-4e1a-b55b-7e31d39cd06c",
   "metadata": {},
   "outputs": [
    {
     "name": "stdout",
     "output_type": "stream",
     "text": [
      "Collecting scikit-learn\n",
      "  Obtaining dependency information for scikit-learn from https://files.pythonhosted.org/packages/fe/6b/db949ed5ac367987b1f250f070f340b7715d22f0c9c965bdf07de6ca75a3/scikit_learn-1.3.2-cp312-cp312-win_amd64.whl.metadata\n",
      "  Downloading scikit_learn-1.3.2-cp312-cp312-win_amd64.whl.metadata (11 kB)\n",
      "Requirement already satisfied: numpy<2.0,>=1.17.3 in c:\\users\\svish\\appdata\\local\\programs\\python\\python312\\lib\\site-packages (from scikit-learn) (1.26.2)\n",
      "Collecting scipy>=1.5.0 (from scikit-learn)\n",
      "  Obtaining dependency information for scipy>=1.5.0 from https://files.pythonhosted.org/packages/c6/a1/357e4cd43af2748e1e0407ae0e9a5ea8aaaa6b702833c81be11670dcbad8/scipy-1.11.4-cp312-cp312-win_amd64.whl.metadata\n",
      "  Downloading scipy-1.11.4-cp312-cp312-win_amd64.whl.metadata (60 kB)\n",
      "     ---------------------------------------- 0.0/60.4 kB ? eta -:--:--\n",
      "     ------ --------------------------------- 10.2/60.4 kB ? eta -:--:--\n",
      "     ---------------------------------------- 60.4/60.4 kB 1.1 MB/s eta 0:00:00\n",
      "Collecting joblib>=1.1.1 (from scikit-learn)\n",
      "  Obtaining dependency information for joblib>=1.1.1 from https://files.pythonhosted.org/packages/10/40/d551139c85db202f1f384ba8bcf96aca2f329440a844f924c8a0040b6d02/joblib-1.3.2-py3-none-any.whl.metadata\n",
      "  Downloading joblib-1.3.2-py3-none-any.whl.metadata (5.4 kB)\n",
      "Collecting threadpoolctl>=2.0.0 (from scikit-learn)\n",
      "  Obtaining dependency information for threadpoolctl>=2.0.0 from https://files.pythonhosted.org/packages/81/12/fd4dea011af9d69e1cad05c75f3f7202cdcbeac9b712eea58ca779a72865/threadpoolctl-3.2.0-py3-none-any.whl.metadata\n",
      "  Downloading threadpoolctl-3.2.0-py3-none-any.whl.metadata (10.0 kB)\n",
      "Downloading scikit_learn-1.3.2-cp312-cp312-win_amd64.whl (9.1 MB)\n",
      "   ---------------------------------------- 0.0/9.1 MB ? eta -:--:--\n",
      "   - -------------------------------------- 0.5/9.1 MB 14.2 MB/s eta 0:00:01\n",
      "   -- ------------------------------------- 0.7/9.1 MB 8.4 MB/s eta 0:00:02\n",
      "   ---- ----------------------------------- 0.9/9.1 MB 7.3 MB/s eta 0:00:02\n",
      "   ---- ----------------------------------- 1.1/9.1 MB 7.2 MB/s eta 0:00:02\n",
      "   ----- ---------------------------------- 1.3/9.1 MB 6.8 MB/s eta 0:00:02\n",
      "   ------ --------------------------------- 1.4/9.1 MB 5.8 MB/s eta 0:00:02\n",
      "   ------ --------------------------------- 1.4/9.1 MB 5.6 MB/s eta 0:00:02\n",
      "   ------ --------------------------------- 1.4/9.1 MB 4.6 MB/s eta 0:00:02\n",
      "   ------ --------------------------------- 1.5/9.1 MB 4.2 MB/s eta 0:00:02\n",
      "   ------ --------------------------------- 1.5/9.1 MB 3.7 MB/s eta 0:00:03\n",
      "   ------ --------------------------------- 1.5/9.1 MB 3.5 MB/s eta 0:00:03\n",
      "   ------ --------------------------------- 1.6/9.1 MB 3.2 MB/s eta 0:00:03\n",
      "   ------- -------------------------------- 1.6/9.1 MB 3.2 MB/s eta 0:00:03\n",
      "   ------- -------------------------------- 1.6/9.1 MB 3.0 MB/s eta 0:00:03\n",
      "   ------- -------------------------------- 1.6/9.1 MB 2.7 MB/s eta 0:00:03\n",
      "   ------- -------------------------------- 1.6/9.1 MB 2.7 MB/s eta 0:00:03\n",
      "   ------- -------------------------------- 1.6/9.1 MB 2.7 MB/s eta 0:00:03\n",
      "   ------- -------------------------------- 1.6/9.1 MB 2.7 MB/s eta 0:00:03\n",
      "   ------- -------------------------------- 1.6/9.1 MB 2.7 MB/s eta 0:00:03\n",
      "   ------- -------------------------------- 1.6/9.1 MB 2.7 MB/s eta 0:00:03\n",
      "   ------- -------------------------------- 1.7/9.1 MB 1.9 MB/s eta 0:00:04\n",
      "   ------- -------------------------------- 1.7/9.1 MB 1.9 MB/s eta 0:00:04\n",
      "   ------- -------------------------------- 1.8/9.1 MB 1.9 MB/s eta 0:00:04\n",
      "   -------- ------------------------------- 1.9/9.1 MB 1.9 MB/s eta 0:00:04\n",
      "   -------- ------------------------------- 1.9/9.1 MB 1.8 MB/s eta 0:00:04\n",
      "   -------- ------------------------------- 2.0/9.1 MB 1.8 MB/s eta 0:00:05\n",
      "   -------- ------------------------------- 2.0/9.1 MB 1.7 MB/s eta 0:00:05\n",
      "   -------- ------------------------------- 2.0/9.1 MB 1.7 MB/s eta 0:00:05\n",
      "   --------- ------------------------------ 2.1/9.1 MB 1.7 MB/s eta 0:00:05\n",
      "   --------- ------------------------------ 2.2/9.1 MB 1.7 MB/s eta 0:00:05\n",
      "   ---------- ----------------------------- 2.3/9.1 MB 1.7 MB/s eta 0:00:05\n",
      "   ----------- ---------------------------- 2.6/9.1 MB 1.8 MB/s eta 0:00:04\n",
      "   ------------- -------------------------- 3.0/9.1 MB 2.1 MB/s eta 0:00:03\n",
      "   --------------- ------------------------ 3.4/9.1 MB 2.3 MB/s eta 0:00:03\n",
      "   ---------------- ----------------------- 3.8/9.1 MB 2.4 MB/s eta 0:00:03\n",
      "   ----------------- ---------------------- 4.0/9.1 MB 2.5 MB/s eta 0:00:03\n",
      "   ------------------ --------------------- 4.2/9.1 MB 2.6 MB/s eta 0:00:02\n",
      "   ------------------- -------------------- 4.5/9.1 MB 2.7 MB/s eta 0:00:02\n",
      "   -------------------- ------------------- 4.6/9.1 MB 2.7 MB/s eta 0:00:02\n",
      "   --------------------- ------------------ 5.0/9.1 MB 2.9 MB/s eta 0:00:02\n",
      "   ---------------------- ----------------- 5.2/9.1 MB 2.9 MB/s eta 0:00:02\n",
      "   ------------------------ --------------- 5.5/9.1 MB 3.0 MB/s eta 0:00:02\n",
      "   ------------------------- -------------- 5.7/9.1 MB 3.1 MB/s eta 0:00:02\n",
      "   -------------------------- ------------- 6.0/9.1 MB 3.2 MB/s eta 0:00:01\n",
      "   --------------------------- ------------ 6.2/9.1 MB 3.2 MB/s eta 0:00:01\n",
      "   ---------------------------- ----------- 6.5/9.1 MB 3.3 MB/s eta 0:00:01\n",
      "   ----------------------------- ---------- 6.8/9.1 MB 3.3 MB/s eta 0:00:01\n",
      "   ------------------------------ --------- 7.0/9.1 MB 3.4 MB/s eta 0:00:01\n",
      "   ------------------------------- -------- 7.3/9.1 MB 3.5 MB/s eta 0:00:01\n",
      "   --------------------------------- ------ 7.5/9.1 MB 3.5 MB/s eta 0:00:01\n",
      "   ---------------------------------- ----- 7.8/9.1 MB 3.6 MB/s eta 0:00:01\n",
      "   ----------------------------------- ---- 8.1/9.1 MB 3.6 MB/s eta 0:00:01\n",
      "   ------------------------------------ --- 8.4/9.1 MB 3.7 MB/s eta 0:00:01\n",
      "   ------------------------------------- -- 8.6/9.1 MB 3.7 MB/s eta 0:00:01\n",
      "   -------------------------------------- - 8.8/9.1 MB 3.8 MB/s eta 0:00:01\n",
      "   ---------------------------------------  9.1/9.1 MB 3.8 MB/s eta 0:00:01\n",
      "   ---------------------------------------- 9.1/9.1 MB 3.7 MB/s eta 0:00:00\n",
      "Downloading joblib-1.3.2-py3-none-any.whl (302 kB)\n",
      "   ---------------------------------------- 0.0/302.2 kB ? eta -:--:--\n",
      "   ---------------------------------------- 302.2/302.2 kB 9.4 MB/s eta 0:00:00\n",
      "Downloading scipy-1.11.4-cp312-cp312-win_amd64.whl (43.7 MB)\n",
      "   ---------------------------------------- 0.0/43.7 MB ? eta -:--:--\n",
      "   ---------------------------------------- 0.4/43.7 MB 12.2 MB/s eta 0:00:04\n",
      "    --------------------------------------- 0.8/43.7 MB 10.4 MB/s eta 0:00:05\n",
      "   - -------------------------------------- 1.2/43.7 MB 10.5 MB/s eta 0:00:05\n",
      "   - -------------------------------------- 1.4/43.7 MB 9.1 MB/s eta 0:00:05\n",
      "   - -------------------------------------- 1.5/43.7 MB 8.2 MB/s eta 0:00:06\n",
      "   - -------------------------------------- 1.8/43.7 MB 7.7 MB/s eta 0:00:06\n",
      "   - -------------------------------------- 2.2/43.7 MB 8.2 MB/s eta 0:00:06\n",
      "   -- ------------------------------------- 2.4/43.7 MB 7.8 MB/s eta 0:00:06\n",
      "   -- ------------------------------------- 2.7/43.7 MB 7.5 MB/s eta 0:00:06\n",
      "   -- ------------------------------------- 3.0/43.7 MB 7.6 MB/s eta 0:00:06\n",
      "   -- ------------------------------------- 3.2/43.7 MB 7.4 MB/s eta 0:00:06\n",
      "   --- ------------------------------------ 3.5/43.7 MB 7.3 MB/s eta 0:00:06\n",
      "   --- ------------------------------------ 3.8/43.7 MB 7.1 MB/s eta 0:00:06\n",
      "   --- ------------------------------------ 4.1/43.7 MB 7.1 MB/s eta 0:00:06\n",
      "   --- ------------------------------------ 4.4/43.7 MB 7.0 MB/s eta 0:00:06\n",
      "   ---- ----------------------------------- 4.6/43.7 MB 7.0 MB/s eta 0:00:06\n",
      "   ---- ----------------------------------- 4.9/43.7 MB 6.9 MB/s eta 0:00:06\n",
      "   ---- ----------------------------------- 5.1/43.7 MB 6.9 MB/s eta 0:00:06\n",
      "   ----- ---------------------------------- 5.7/43.7 MB 6.8 MB/s eta 0:00:06\n",
      "   ----- ---------------------------------- 6.4/43.7 MB 6.7 MB/s eta 0:00:06\n",
      "   ------ --------------------------------- 7.1/43.7 MB 6.8 MB/s eta 0:00:06\n",
      "   ------ --------------------------------- 7.6/43.7 MB 6.7 MB/s eta 0:00:06\n",
      "   ------- -------------------------------- 7.9/43.7 MB 6.6 MB/s eta 0:00:06\n",
      "   ------- -------------------------------- 8.4/43.7 MB 6.6 MB/s eta 0:00:06\n",
      "   -------- ------------------------------- 8.9/43.7 MB 6.6 MB/s eta 0:00:06\n",
      "   -------- ------------------------------- 9.2/43.7 MB 6.6 MB/s eta 0:00:06\n",
      "   -------- ------------------------------- 9.4/43.7 MB 6.6 MB/s eta 0:00:06\n",
      "   -------- ------------------------------- 9.7/43.7 MB 6.6 MB/s eta 0:00:06\n",
      "   --------- ------------------------------ 9.9/43.7 MB 6.6 MB/s eta 0:00:06\n",
      "   --------- ------------------------------ 10.2/43.7 MB 6.6 MB/s eta 0:00:06\n",
      "   --------- ------------------------------ 10.4/43.7 MB 6.5 MB/s eta 0:00:06\n",
      "   --------- ------------------------------ 10.7/43.7 MB 6.4 MB/s eta 0:00:06\n",
      "   --------- ------------------------------ 10.8/43.7 MB 6.2 MB/s eta 0:00:06\n",
      "   --------- ------------------------------ 10.9/43.7 MB 6.2 MB/s eta 0:00:06\n",
      "   ---------- ----------------------------- 10.9/43.7 MB 6.1 MB/s eta 0:00:06\n",
      "   ---------- ----------------------------- 11.0/43.7 MB 5.8 MB/s eta 0:00:06\n",
      "   ---------- ----------------------------- 11.0/43.7 MB 5.8 MB/s eta 0:00:06\n",
      "   ---------- ----------------------------- 11.2/43.7 MB 5.6 MB/s eta 0:00:06\n",
      "   ---------- ----------------------------- 11.4/43.7 MB 5.6 MB/s eta 0:00:06\n",
      "   ---------- ----------------------------- 11.7/43.7 MB 5.6 MB/s eta 0:00:06\n",
      "   ---------- ----------------------------- 12.0/43.7 MB 5.7 MB/s eta 0:00:06\n",
      "   ----------- ---------------------------- 12.4/43.7 MB 5.7 MB/s eta 0:00:06\n",
      "   ----------- ---------------------------- 12.7/43.7 MB 5.7 MB/s eta 0:00:06\n",
      "   ----------- ---------------------------- 12.9/43.7 MB 5.8 MB/s eta 0:00:06\n",
      "   ------------ --------------------------- 13.2/43.7 MB 5.8 MB/s eta 0:00:06\n",
      "   ------------ --------------------------- 13.3/43.7 MB 5.7 MB/s eta 0:00:06\n",
      "   ------------ --------------------------- 13.7/43.7 MB 5.7 MB/s eta 0:00:06\n",
      "   ------------ --------------------------- 13.9/43.7 MB 5.8 MB/s eta 0:00:06\n",
      "   ------------- -------------------------- 14.2/43.7 MB 5.8 MB/s eta 0:00:06\n",
      "   ------------- -------------------------- 14.6/43.7 MB 5.7 MB/s eta 0:00:06\n",
      "   ------------- -------------------------- 14.9/43.7 MB 5.8 MB/s eta 0:00:05\n",
      "   ------------- -------------------------- 15.1/43.7 MB 5.8 MB/s eta 0:00:05\n",
      "   -------------- ------------------------- 15.4/43.7 MB 5.8 MB/s eta 0:00:05\n",
      "   -------------- ------------------------- 15.6/43.7 MB 5.8 MB/s eta 0:00:05\n",
      "   -------------- ------------------------- 15.9/43.7 MB 5.8 MB/s eta 0:00:05\n",
      "   -------------- ------------------------- 16.1/43.7 MB 5.7 MB/s eta 0:00:05\n",
      "   -------------- ------------------------- 16.4/43.7 MB 5.8 MB/s eta 0:00:05\n",
      "   --------------- ------------------------ 16.6/43.7 MB 5.7 MB/s eta 0:00:05\n",
      "   --------------- ------------------------ 16.9/43.7 MB 5.8 MB/s eta 0:00:05\n",
      "   --------------- ------------------------ 17.1/43.7 MB 5.7 MB/s eta 0:00:05\n",
      "   --------------- ------------------------ 17.4/43.7 MB 5.8 MB/s eta 0:00:05\n",
      "   ---------------- ----------------------- 17.6/43.7 MB 5.8 MB/s eta 0:00:05\n",
      "   ---------------- ----------------------- 17.9/43.7 MB 5.8 MB/s eta 0:00:05\n",
      "   ---------------- ----------------------- 18.1/43.7 MB 5.8 MB/s eta 0:00:05\n",
      "   ---------------- ----------------------- 18.4/43.7 MB 5.8 MB/s eta 0:00:05\n",
      "   ----------------- ---------------------- 18.6/43.7 MB 5.8 MB/s eta 0:00:05\n",
      "   ----------------- ---------------------- 18.9/43.7 MB 5.8 MB/s eta 0:00:05\n",
      "   ----------------- ---------------------- 19.1/43.7 MB 5.8 MB/s eta 0:00:05\n",
      "   ----------------- ---------------------- 19.4/43.7 MB 5.8 MB/s eta 0:00:05\n",
      "   ----------------- ---------------------- 19.6/43.7 MB 5.8 MB/s eta 0:00:05\n",
      "   ------------------ --------------------- 19.8/43.7 MB 5.7 MB/s eta 0:00:05\n",
      "   ------------------ --------------------- 20.1/43.7 MB 5.8 MB/s eta 0:00:05\n",
      "   ------------------ --------------------- 20.4/43.7 MB 5.8 MB/s eta 0:00:05\n",
      "   ------------------ --------------------- 20.7/43.7 MB 5.8 MB/s eta 0:00:04\n",
      "   ------------------- -------------------- 20.9/43.7 MB 5.8 MB/s eta 0:00:04\n",
      "   ------------------- -------------------- 21.1/43.7 MB 6.0 MB/s eta 0:00:04\n",
      "   ------------------- -------------------- 21.4/43.7 MB 6.5 MB/s eta 0:00:04\n",
      "   ------------------- -------------------- 21.6/43.7 MB 6.5 MB/s eta 0:00:04\n",
      "   -------------------- ------------------- 21.9/43.7 MB 6.4 MB/s eta 0:00:04\n",
      "   -------------------- ------------------- 22.1/43.7 MB 6.4 MB/s eta 0:00:04\n",
      "   -------------------- ------------------- 22.4/43.7 MB 6.4 MB/s eta 0:00:04\n",
      "   -------------------- ------------------- 22.7/43.7 MB 6.3 MB/s eta 0:00:04\n",
      "   -------------------- ------------------- 22.9/43.7 MB 6.2 MB/s eta 0:00:04\n",
      "   --------------------- ------------------ 23.2/43.7 MB 6.3 MB/s eta 0:00:04\n",
      "   --------------------- ------------------ 23.4/43.7 MB 6.2 MB/s eta 0:00:04\n",
      "   --------------------- ------------------ 23.7/43.7 MB 6.4 MB/s eta 0:00:04\n",
      "   --------------------- ------------------ 23.9/43.7 MB 6.3 MB/s eta 0:00:04\n",
      "   ---------------------- ----------------- 24.2/43.7 MB 6.4 MB/s eta 0:00:04\n",
      "   ---------------------- ----------------- 24.4/43.7 MB 6.3 MB/s eta 0:00:04\n",
      "   ---------------------- ----------------- 24.6/43.7 MB 6.3 MB/s eta 0:00:04\n",
      "   ---------------------- ----------------- 24.9/43.7 MB 6.3 MB/s eta 0:00:03\n",
      "   ----------------------- ---------------- 25.2/43.7 MB 6.2 MB/s eta 0:00:03\n",
      "   ----------------------- ---------------- 25.4/43.7 MB 6.3 MB/s eta 0:00:03\n",
      "   ----------------------- ---------------- 25.7/43.7 MB 6.2 MB/s eta 0:00:03\n",
      "   ----------------------- ---------------- 25.9/43.7 MB 6.3 MB/s eta 0:00:03\n",
      "   ----------------------- ---------------- 26.1/43.7 MB 6.2 MB/s eta 0:00:03\n",
      "   ------------------------ --------------- 26.4/43.7 MB 6.2 MB/s eta 0:00:03\n",
      "   ------------------------ --------------- 26.8/43.7 MB 6.3 MB/s eta 0:00:03\n",
      "   ------------------------ --------------- 27.0/43.7 MB 6.3 MB/s eta 0:00:03\n",
      "   ------------------------ --------------- 27.3/43.7 MB 6.3 MB/s eta 0:00:03\n",
      "   ------------------------- -------------- 27.6/43.7 MB 6.3 MB/s eta 0:00:03\n",
      "   ------------------------- -------------- 28.0/43.7 MB 6.3 MB/s eta 0:00:03\n",
      "   ------------------------- -------------- 28.3/43.7 MB 6.3 MB/s eta 0:00:03\n",
      "   -------------------------- ------------- 28.4/43.7 MB 6.2 MB/s eta 0:00:03\n",
      "   -------------------------- ------------- 28.5/43.7 MB 6.1 MB/s eta 0:00:03\n",
      "   -------------------------- ------------- 28.5/43.7 MB 6.1 MB/s eta 0:00:03\n",
      "   -------------------------- ------------- 28.7/43.7 MB 6.0 MB/s eta 0:00:03\n",
      "   -------------------------- ------------- 28.9/43.7 MB 6.0 MB/s eta 0:00:03\n",
      "   -------------------------- ------------- 29.2/43.7 MB 5.9 MB/s eta 0:00:03\n",
      "   --------------------------- ------------ 29.5/43.7 MB 6.0 MB/s eta 0:00:03\n",
      "   --------------------------- ------------ 30.0/43.7 MB 6.1 MB/s eta 0:00:03\n",
      "   --------------------------- ------------ 30.4/43.7 MB 6.2 MB/s eta 0:00:03\n",
      "   ---------------------------- ----------- 30.7/43.7 MB 6.2 MB/s eta 0:00:03\n",
      "   ---------------------------- ----------- 31.0/43.7 MB 6.3 MB/s eta 0:00:03\n",
      "   ---------------------------- ----------- 31.3/43.7 MB 6.3 MB/s eta 0:00:02\n",
      "   ---------------------------- ----------- 31.5/43.7 MB 6.3 MB/s eta 0:00:02\n",
      "   ----------------------------- ---------- 31.8/43.7 MB 6.3 MB/s eta 0:00:02\n",
      "   ----------------------------- ---------- 32.0/43.7 MB 6.2 MB/s eta 0:00:02\n",
      "   ----------------------------- ---------- 32.3/43.7 MB 6.3 MB/s eta 0:00:02\n",
      "   ----------------------------- ---------- 32.4/43.7 MB 6.2 MB/s eta 0:00:02\n",
      "   ------------------------------ --------- 32.8/43.7 MB 6.3 MB/s eta 0:00:02\n",
      "   ------------------------------ --------- 33.1/43.7 MB 6.3 MB/s eta 0:00:02\n",
      "   ------------------------------ --------- 33.3/43.7 MB 6.3 MB/s eta 0:00:02\n",
      "   ------------------------------ --------- 33.6/43.7 MB 6.3 MB/s eta 0:00:02\n",
      "   ------------------------------ --------- 33.8/43.7 MB 6.3 MB/s eta 0:00:02\n",
      "   ------------------------------- -------- 34.1/43.7 MB 6.3 MB/s eta 0:00:02\n",
      "   ------------------------------- -------- 34.3/43.7 MB 6.3 MB/s eta 0:00:02\n",
      "   ------------------------------- -------- 34.6/43.7 MB 6.3 MB/s eta 0:00:02\n",
      "   ------------------------------- -------- 34.8/43.7 MB 6.3 MB/s eta 0:00:02\n",
      "   -------------------------------- ------- 35.1/43.7 MB 6.4 MB/s eta 0:00:02\n",
      "   -------------------------------- ------- 35.4/43.7 MB 6.2 MB/s eta 0:00:02\n",
      "   -------------------------------- ------- 35.7/43.7 MB 6.3 MB/s eta 0:00:02\n",
      "   -------------------------------- ------- 35.9/43.7 MB 6.3 MB/s eta 0:00:02\n",
      "   --------------------------------- ------ 36.2/43.7 MB 6.4 MB/s eta 0:00:02\n",
      "   --------------------------------- ------ 36.4/43.7 MB 6.4 MB/s eta 0:00:02\n",
      "   --------------------------------- ------ 36.7/43.7 MB 6.3 MB/s eta 0:00:02\n",
      "   --------------------------------- ------ 36.9/43.7 MB 6.3 MB/s eta 0:00:02\n",
      "   ---------------------------------- ----- 37.2/43.7 MB 6.3 MB/s eta 0:00:02\n",
      "   ---------------------------------- ----- 37.4/43.7 MB 6.4 MB/s eta 0:00:01\n",
      "   ---------------------------------- ----- 37.7/43.7 MB 6.3 MB/s eta 0:00:01\n",
      "   ---------------------------------- ----- 38.0/43.7 MB 6.3 MB/s eta 0:00:01\n",
      "   ---------------------------------- ----- 38.2/43.7 MB 6.3 MB/s eta 0:00:01\n",
      "   ----------------------------------- ---- 38.5/43.7 MB 6.3 MB/s eta 0:00:01\n",
      "   ----------------------------------- ---- 38.7/43.7 MB 6.3 MB/s eta 0:00:01\n",
      "   ----------------------------------- ---- 38.8/43.7 MB 6.6 MB/s eta 0:00:01\n",
      "   ----------------------------------- ---- 39.2/43.7 MB 6.8 MB/s eta 0:00:01\n",
      "   ------------------------------------ --- 39.5/43.7 MB 6.7 MB/s eta 0:00:01\n",
      "   ------------------------------------ --- 39.7/43.7 MB 6.7 MB/s eta 0:00:01\n",
      "   ------------------------------------ --- 40.0/43.7 MB 6.6 MB/s eta 0:00:01\n",
      "   ------------------------------------ --- 40.2/43.7 MB 6.5 MB/s eta 0:00:01\n",
      "   ------------------------------------ --- 40.4/43.7 MB 6.4 MB/s eta 0:00:01\n",
      "   ------------------------------------- -- 40.7/43.7 MB 6.4 MB/s eta 0:00:01\n",
      "   ------------------------------------- -- 41.0/43.7 MB 6.4 MB/s eta 0:00:01\n",
      "   ------------------------------------- -- 41.2/43.7 MB 6.3 MB/s eta 0:00:01\n",
      "   ------------------------------------- -- 41.4/43.7 MB 6.3 MB/s eta 0:00:01\n",
      "   -------------------------------------- - 41.6/43.7 MB 6.2 MB/s eta 0:00:01\n",
      "   -------------------------------------- - 41.7/43.7 MB 6.2 MB/s eta 0:00:01\n",
      "   -------------------------------------- - 41.7/43.7 MB 6.0 MB/s eta 0:00:01\n",
      "   -------------------------------------- - 41.9/43.7 MB 6.0 MB/s eta 0:00:01\n",
      "   -------------------------------------- - 42.0/43.7 MB 5.9 MB/s eta 0:00:01\n",
      "   -------------------------------------- - 42.3/43.7 MB 5.9 MB/s eta 0:00:01\n",
      "   -------------------------------------- - 42.6/43.7 MB 6.0 MB/s eta 0:00:01\n",
      "   ---------------------------------------  43.0/43.7 MB 6.0 MB/s eta 0:00:01\n",
      "   ---------------------------------------  43.3/43.7 MB 6.1 MB/s eta 0:00:01\n",
      "   ---------------------------------------  43.6/43.7 MB 6.1 MB/s eta 0:00:01\n",
      "   ---------------------------------------  43.7/43.7 MB 6.0 MB/s eta 0:00:01\n",
      "   ---------------------------------------  43.7/43.7 MB 6.0 MB/s eta 0:00:01\n",
      "   ---------------------------------------  43.7/43.7 MB 6.0 MB/s eta 0:00:01\n",
      "   ---------------------------------------  43.7/43.7 MB 6.0 MB/s eta 0:00:01\n",
      "   ---------------------------------------  43.7/43.7 MB 6.0 MB/s eta 0:00:01\n",
      "   ---------------------------------------- 43.7/43.7 MB 5.4 MB/s eta 0:00:00\n",
      "Downloading threadpoolctl-3.2.0-py3-none-any.whl (15 kB)\n",
      "Installing collected packages: threadpoolctl, scipy, joblib, scikit-learn\n",
      "Successfully installed joblib-1.3.2 scikit-learn-1.3.2 scipy-1.11.4 threadpoolctl-3.2.0\n",
      "Note: you may need to restart the kernel to use updated packages.\n"
     ]
    },
    {
     "name": "stderr",
     "output_type": "stream",
     "text": [
      "\n",
      "[notice] A new release of pip is available: 23.2.1 -> 23.3.2\n",
      "[notice] To update, run: C:\\Users\\svish\\AppData\\Local\\Programs\\Python\\Python312\\python.exe -m pip install --upgrade pip\n"
     ]
    }
   ],
   "source": [
    "pip install scikit-learn"
   ]
  },
  {
   "cell_type": "code",
   "execution_count": 51,
   "id": "6ede2245-4530-4dac-bf8f-31491506848c",
   "metadata": {},
   "outputs": [],
   "source": [
    "from sklearn.model_selection import train_test_split"
   ]
  },
  {
   "cell_type": "code",
   "execution_count": 53,
   "id": "fc8ec34f-5a1a-4bb7-989e-bd59a10269a0",
   "metadata": {},
   "outputs": [],
   "source": [
    "X_train, X_test, y_train, y_test = train_test_split(train.drop('Survived', axis=1),\n",
    "                                                   train['Survived'], test_size=0.30,\n",
    "                                                   random_state=101)"
   ]
  },
  {
   "cell_type": "code",
   "execution_count": 56,
   "id": "04390bfe-8502-4063-9d75-6b8a54790602",
   "metadata": {},
   "outputs": [],
   "source": [
    "from sklearn.linear_model import LogisticRegression"
   ]
  },
  {
   "cell_type": "code",
   "execution_count": 58,
   "id": "3b4ad052-bc46-4b58-bb13-d0aafe2d3e17",
   "metadata": {},
   "outputs": [
    {
     "name": "stderr",
     "output_type": "stream",
     "text": [
      "C:\\Users\\svish\\AppData\\Local\\Programs\\Python\\Python312\\Lib\\site-packages\\sklearn\\linear_model\\_logistic.py:460: ConvergenceWarning: lbfgs failed to converge (status=1):\n",
      "STOP: TOTAL NO. of ITERATIONS REACHED LIMIT.\n",
      "\n",
      "Increase the number of iterations (max_iter) or scale the data as shown in:\n",
      "    https://scikit-learn.org/stable/modules/preprocessing.html\n",
      "Please also refer to the documentation for alternative solver options:\n",
      "    https://scikit-learn.org/stable/modules/linear_model.html#logistic-regression\n",
      "  n_iter_i = _check_optimize_result(\n"
     ]
    },
    {
     "data": {
      "text/html": [
       "<style>#sk-container-id-1 {color: black;}#sk-container-id-1 pre{padding: 0;}#sk-container-id-1 div.sk-toggleable {background-color: white;}#sk-container-id-1 label.sk-toggleable__label {cursor: pointer;display: block;width: 100%;margin-bottom: 0;padding: 0.3em;box-sizing: border-box;text-align: center;}#sk-container-id-1 label.sk-toggleable__label-arrow:before {content: \"▸\";float: left;margin-right: 0.25em;color: #696969;}#sk-container-id-1 label.sk-toggleable__label-arrow:hover:before {color: black;}#sk-container-id-1 div.sk-estimator:hover label.sk-toggleable__label-arrow:before {color: black;}#sk-container-id-1 div.sk-toggleable__content {max-height: 0;max-width: 0;overflow: hidden;text-align: left;background-color: #f0f8ff;}#sk-container-id-1 div.sk-toggleable__content pre {margin: 0.2em;color: black;border-radius: 0.25em;background-color: #f0f8ff;}#sk-container-id-1 input.sk-toggleable__control:checked~div.sk-toggleable__content {max-height: 200px;max-width: 100%;overflow: auto;}#sk-container-id-1 input.sk-toggleable__control:checked~label.sk-toggleable__label-arrow:before {content: \"▾\";}#sk-container-id-1 div.sk-estimator input.sk-toggleable__control:checked~label.sk-toggleable__label {background-color: #d4ebff;}#sk-container-id-1 div.sk-label input.sk-toggleable__control:checked~label.sk-toggleable__label {background-color: #d4ebff;}#sk-container-id-1 input.sk-hidden--visually {border: 0;clip: rect(1px 1px 1px 1px);clip: rect(1px, 1px, 1px, 1px);height: 1px;margin: -1px;overflow: hidden;padding: 0;position: absolute;width: 1px;}#sk-container-id-1 div.sk-estimator {font-family: monospace;background-color: #f0f8ff;border: 1px dotted black;border-radius: 0.25em;box-sizing: border-box;margin-bottom: 0.5em;}#sk-container-id-1 div.sk-estimator:hover {background-color: #d4ebff;}#sk-container-id-1 div.sk-parallel-item::after {content: \"\";width: 100%;border-bottom: 1px solid gray;flex-grow: 1;}#sk-container-id-1 div.sk-label:hover label.sk-toggleable__label {background-color: #d4ebff;}#sk-container-id-1 div.sk-serial::before {content: \"\";position: absolute;border-left: 1px solid gray;box-sizing: border-box;top: 0;bottom: 0;left: 50%;z-index: 0;}#sk-container-id-1 div.sk-serial {display: flex;flex-direction: column;align-items: center;background-color: white;padding-right: 0.2em;padding-left: 0.2em;position: relative;}#sk-container-id-1 div.sk-item {position: relative;z-index: 1;}#sk-container-id-1 div.sk-parallel {display: flex;align-items: stretch;justify-content: center;background-color: white;position: relative;}#sk-container-id-1 div.sk-item::before, #sk-container-id-1 div.sk-parallel-item::before {content: \"\";position: absolute;border-left: 1px solid gray;box-sizing: border-box;top: 0;bottom: 0;left: 50%;z-index: -1;}#sk-container-id-1 div.sk-parallel-item {display: flex;flex-direction: column;z-index: 1;position: relative;background-color: white;}#sk-container-id-1 div.sk-parallel-item:first-child::after {align-self: flex-end;width: 50%;}#sk-container-id-1 div.sk-parallel-item:last-child::after {align-self: flex-start;width: 50%;}#sk-container-id-1 div.sk-parallel-item:only-child::after {width: 0;}#sk-container-id-1 div.sk-dashed-wrapped {border: 1px dashed gray;margin: 0 0.4em 0.5em 0.4em;box-sizing: border-box;padding-bottom: 0.4em;background-color: white;}#sk-container-id-1 div.sk-label label {font-family: monospace;font-weight: bold;display: inline-block;line-height: 1.2em;}#sk-container-id-1 div.sk-label-container {text-align: center;}#sk-container-id-1 div.sk-container {/* jupyter's `normalize.less` sets `[hidden] { display: none; }` but bootstrap.min.css set `[hidden] { display: none !important; }` so we also need the `!important` here to be able to override the default hidden behavior on the sphinx rendered scikit-learn.org. See: https://github.com/scikit-learn/scikit-learn/issues/21755 */display: inline-block !important;position: relative;}#sk-container-id-1 div.sk-text-repr-fallback {display: none;}</style><div id=\"sk-container-id-1\" class=\"sk-top-container\"><div class=\"sk-text-repr-fallback\"><pre>LogisticRegression()</pre><b>In a Jupyter environment, please rerun this cell to show the HTML representation or trust the notebook. <br />On GitHub, the HTML representation is unable to render, please try loading this page with nbviewer.org.</b></div><div class=\"sk-container\" hidden><div class=\"sk-item\"><div class=\"sk-estimator sk-toggleable\"><input class=\"sk-toggleable__control sk-hidden--visually\" id=\"sk-estimator-id-1\" type=\"checkbox\" checked><label for=\"sk-estimator-id-1\" class=\"sk-toggleable__label sk-toggleable__label-arrow\">LogisticRegression</label><div class=\"sk-toggleable__content\"><pre>LogisticRegression()</pre></div></div></div></div></div>"
      ],
      "text/plain": [
       "LogisticRegression()"
      ]
     },
     "execution_count": 58,
     "metadata": {},
     "output_type": "execute_result"
    }
   ],
   "source": [
    "logmodel = LogisticRegression()\n",
    "logmodel.fit(X_train, y_train)"
   ]
  },
  {
   "cell_type": "code",
   "execution_count": 59,
   "id": "ff7619e5-b8ed-499a-88f9-3a922b5bbab6",
   "metadata": {},
   "outputs": [],
   "source": [
    "predictions = logmodel.predict(X_test)"
   ]
  },
  {
   "cell_type": "code",
   "execution_count": 60,
   "id": "4158868d-3409-4e5d-acc7-264863a85ab5",
   "metadata": {},
   "outputs": [],
   "source": [
    "from sklearn.metrics import confusion_matrix"
   ]
  },
  {
   "cell_type": "code",
   "execution_count": 61,
   "id": "18fbb7cc-2d9f-4ebf-8066-6d04d23743b6",
   "metadata": {},
   "outputs": [],
   "source": [
    "accuracy = confusion_matrix(y_test, predictions)"
   ]
  },
  {
   "cell_type": "code",
   "execution_count": 62,
   "id": "c1a68d39-cef4-4dd2-862e-cc6f62afbf60",
   "metadata": {},
   "outputs": [
    {
     "data": {
      "text/plain": [
       "array([[148,  15],\n",
       "       [ 39,  65]], dtype=int64)"
      ]
     },
     "execution_count": 62,
     "metadata": {},
     "output_type": "execute_result"
    }
   ],
   "source": [
    "accuracy"
   ]
  },
  {
   "cell_type": "code",
   "execution_count": 63,
   "id": "95b870ab-02cc-47ba-8675-e9334b8ede94",
   "metadata": {},
   "outputs": [],
   "source": [
    "from sklearn.metrics import accuracy_score"
   ]
  },
  {
   "cell_type": "code",
   "execution_count": 64,
   "id": "7e1a5536-3dde-4c0a-be10-a79dd9271f70",
   "metadata": {},
   "outputs": [
    {
     "data": {
      "text/plain": [
       "0.797752808988764"
      ]
     },
     "execution_count": 64,
     "metadata": {},
     "output_type": "execute_result"
    }
   ],
   "source": [
    "accuracy = accuracy_score(y_test, predictions)\n",
    "accuracy"
   ]
  },
  {
   "cell_type": "code",
   "execution_count": 65,
   "id": "7219d462-f984-454a-b622-dbf788c22d25",
   "metadata": {},
   "outputs": [
    {
     "data": {
      "text/plain": [
       "array([0, 0, 1, 1, 0, 0, 0, 0, 0, 0, 1, 1, 0, 0, 0, 0, 1, 1, 1, 0, 0, 0,\n",
       "       0, 0, 0, 0, 0, 0, 0, 0, 0, 0, 0, 0, 0, 0, 1, 0, 0, 0, 1, 0, 0, 1,\n",
       "       1, 0, 1, 1, 0, 0, 0, 1, 0, 0, 0, 0, 0, 0, 0, 1, 0, 1, 1, 0, 0, 0,\n",
       "       0, 0, 0, 0, 0, 0, 1, 1, 0, 1, 0, 0, 0, 0, 0, 0, 0, 0, 0, 1, 0, 1,\n",
       "       0, 1, 1, 1, 0, 0, 0, 1, 1, 0, 0, 1, 0, 1, 0, 0, 1, 0, 1, 0, 0, 0,\n",
       "       0, 0, 1, 1, 0, 1, 0, 0, 1, 1, 1, 0, 0, 0, 0, 0, 1, 0, 1, 1, 0, 0,\n",
       "       1, 0, 0, 0, 0, 0, 0, 0, 0, 0, 0, 0, 0, 1, 0, 0, 0, 1, 0, 1, 1, 1,\n",
       "       0, 0, 0, 0, 1, 0, 0, 0, 0, 0, 0, 0, 0, 0, 0, 0, 1, 0, 1, 0, 0, 0,\n",
       "       0, 0, 1, 0, 1, 0, 0, 1, 0, 1, 1, 0, 0, 0, 0, 1, 1, 0, 0, 0, 1, 0,\n",
       "       0, 1, 0, 1, 1, 0, 1, 0, 0, 0, 0, 0, 0, 0, 1, 0, 0, 1, 1, 0, 0, 0,\n",
       "       1, 0, 0, 0, 1, 0, 0, 1, 0, 0, 1, 0, 0, 0, 1, 1, 1, 0, 1, 0, 0, 0,\n",
       "       0, 0, 1, 0, 0, 0, 1, 1, 0, 1, 0, 0, 0, 0, 0, 0, 0, 1, 1, 0, 0, 0,\n",
       "       0, 1, 1], dtype=int64)"
      ]
     },
     "execution_count": 65,
     "metadata": {},
     "output_type": "execute_result"
    }
   ],
   "source": [
    "predictions"
   ]
  }
 ],
 "metadata": {
  "kernelspec": {
   "display_name": "Python 3 (ipykernel)",
   "language": "python",
   "name": "python3"
  },
  "language_info": {
   "codemirror_mode": {
    "name": "ipython",
    "version": 3
   },
   "file_extension": ".py",
   "mimetype": "text/x-python",
   "name": "python",
   "nbconvert_exporter": "python",
   "pygments_lexer": "ipython3",
   "version": "3.12.1"
  }
 },
 "nbformat": 4,
 "nbformat_minor": 5
}
